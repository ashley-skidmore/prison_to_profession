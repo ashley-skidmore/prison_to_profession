{
 "cells": [
  {
   "cell_type": "code",
   "execution_count": null,
   "id": "1c9157c2",
   "metadata": {},
   "outputs": [],
   "source": [
    "import pandas as pd\n",
    "\n",
    "# List of file paths\n",
    "file_paths = [\n",
    "    \"C:/Users/hypno/OneDrive - KCTCS/Coding/prison_to_profession/data/raw_data/acs_raw1.csv\",\n",
    "    \"C:/Users/hypno/OneDrive - KCTCS/Coding/prison_to_profession/data/raw_data/acs_raw2.csv\",\n",
    "    \"C:/Users/hypno/OneDrive - KCTCS/Coding/prison_to_profession/data/raw_data/acs_raw3.csv\",\n",
    "    \"C:/Users/hypno/OneDrive - KCTCS/Coding/prison_to_profession/data/raw_data/acs_raw4.csv\"\n",
    "]\n",
    "\n",
    "# Load and combine all the files\n",
    "dfs = [pd.read_csv(file) for file in file_paths]\n",
    "combined_df = pd.concat(dfs, ignore_index=True)\n",
    "\n",
    "# Ensure STATE column exists\n",
    "if \"STATE\" not in combined_df.columns:\n",
    "    raise ValueError(\"No column named 'STATE' found. Please check column names.\")\n",
    "\n",
    "# Filter for Kentucky using FIPS code 21\n",
    "kentucky_df = combined_df[combined_df[\"STATE\"].astype(str) == \"21\"]\n",
    "\n",
    "# Save the filtered data\n",
    "output_path = \"C:/Users/hypno/OneDrive - KCTCS/Coding/prison_to_profession/data/raw_data/acs_combined_kentucky.csv\"\n",
    "kentucky_df.to_csv(output_path, index=False)\n",
    "\n",
    "print(f\"Filtered Kentucky data saved to: {output_path}\")\n"
   ]
  }
 ],
 "metadata": {
  "kernelspec": {
   "display_name": "Python 3",
   "language": "python",
   "name": "python3"
  },
  "language_info": {
   "codemirror_mode": {
    "name": "ipython",
    "version": 3
   },
   "file_extension": ".py",
   "mimetype": "text/x-python",
   "name": "python",
   "nbconvert_exporter": "python",
   "pygments_lexer": "ipython3",
   "version": "3.13.3"
  }
 },
 "nbformat": 4,
 "nbformat_minor": 5
}
